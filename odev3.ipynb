{
  "nbformat": 4,
  "nbformat_minor": 0,
  "metadata": {
    "colab": {
      "name": "Untitled0.ipynb",
      "provenance": [],
      "authorship_tag": "ABX9TyO3PgmlFAPDGYyorjf31oxY",
      "include_colab_link": true
    },
    "kernelspec": {
      "name": "python3",
      "display_name": "Python 3"
    }
  },
  "cells": [
    {
      "cell_type": "markdown",
      "metadata": {
        "id": "view-in-github",
        "colab_type": "text"
      },
      "source": [
        "<a href=\"https://colab.research.google.com/github/kadirtok/okul/blob/master/odev3.ipynb\" target=\"_parent\"><img src=\"https://colab.research.google.com/assets/colab-badge.svg\" alt=\"Open In Colab\"/></a>"
      ]
    },
    {
      "cell_type": "markdown",
      "metadata": {
        "id": "UvgJ71e8l2AO",
        "colab_type": "text"
      },
      "source": [
        "Bir torbadaki bilyelerin %30'u Mavi, %35'i Kırmızı geriye kalanını ise Siyahlardan oluşmaktadır.\n",
        "\n",
        "Mavi reknte bilyelerin %5'i, Kırmızı renkte bilyelerin %3'ü, siyah renkte bilyelerin %4'ü kırıktır.\n",
        "\n",
        "Torbadan çekilen bilyenin kırık olduğu bilindiğine göre Mavi rekte olma olasılığı nedir?\n",
        "\n",
        "Olasılık Değeri = Mavi Kırık / Toplam Kırık"
      ]
    },
    {
      "cell_type": "code",
      "metadata": {
        "id": "lZAlR7ZTl5jP",
        "colab_type": "code",
        "outputId": "4da09441-dfee-4f9b-8fed-6856c291af1c",
        "colab": {
          "base_uri": "https://localhost:8080/",
          "height": 147
        }
      },
      "source": [
        "Mavi=0.3\n",
        "Kirmizi=0.35\n",
        "Siyah=0.35\n",
        "\n",
        "Mavikirik=0.05\n",
        "Kirmizikirik=0.03\n",
        "Siyahkirik=0.04\n",
        "\n",
        "Mavikirikoran = Mavi*Mavikirik\n",
        "print(\"\\nMavi Kırık Oranı \",str(Mavikirikoran))\n",
        "Kirmizikirikoran = Kirmizi*Kirmizikirik\n",
        "print(\"\\nKırmızı Kırık Oranı \",str(Kirmizikirikoran))\n",
        "Siyahkirikoran = Siyah*Siyahkirik\n",
        "print(\"\\nSiyah Kırık Oranı \",str(Siyahkirikoran))\n",
        "\n",
        "Olasilik=Mavikirikoran/(Mavikirikoran+Kirmizikirikoran+Siyahkirikoran)\n",
        "\n",
        "print(\"\\nSeçilen Kırık Bilyenin Mavi Olma İhtimali \",str(Olasilik))"
      ],
      "execution_count": 4,
      "outputs": [
        {
          "output_type": "stream",
          "text": [
            "\n",
            "Mavi Kırık Oranı  0.015\n",
            "\n",
            "Kırmızı Kırık Oranı  0.010499999999999999\n",
            "\n",
            "Siyah Kırık Oranı  0.013999999999999999\n",
            "\n",
            "Seçilen Kırık Bilyenin Mavi Olma İhtimali  0.379746835443038\n"
          ],
          "name": "stdout"
        }
      ]
    }
  ]
}