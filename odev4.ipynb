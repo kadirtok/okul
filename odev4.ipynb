{
  "nbformat": 4,
  "nbformat_minor": 0,
  "metadata": {
    "colab": {
      "name": "Untitled0.ipynb",
      "provenance": [],
      "collapsed_sections": [],
      "authorship_tag": "ABX9TyPDrD+y6o+oBYZFnDWUJMeY",
      "include_colab_link": true
    },
    "kernelspec": {
      "name": "python3",
      "display_name": "Python 3"
    }
  },
  "cells": [
    {
      "cell_type": "markdown",
      "metadata": {
        "id": "view-in-github",
        "colab_type": "text"
      },
      "source": [
        "<a href=\"https://colab.research.google.com/github/kadirtok/okul/blob/master/odev4.ipynb\" target=\"_parent\"><img src=\"https://colab.research.google.com/assets/colab-badge.svg\" alt=\"Open In Colab\"/></a>"
      ]
    },
    {
      "cell_type": "markdown",
      "metadata": {
        "id": "UvgJ71e8l2AO",
        "colab_type": "text"
      },
      "source": [
        "Binomial Dağılım\n",
        "\n",
        "Bir kişi 30 kez zar atıyor. 30 atıştan 9'unun 6 gelme olasılığı nedir?\n",
        "\n",
        "Bu soruyla dağılımın formülünün nasıl ortaya çıktığını görmüş olacağız ve olasılık hesaplamayı öğreneceğiz. Burada kişinin zarı defalarca atıp 6 gelip gelmemesi gibi bir durum var ve aslında binom dağılımındaki denememiz bu. O halde tek bir olayın gerçekleşmesi ve kişinin zarı atıp 6 gelme olasılığı olan p'yi tanımlayarak başlayalım.\n",
        "\n",
        "P= 1/6= 0.1666666666666667\n",
        "\n",
        "Yani tek bir atışta gerçekleşmesine odaklanıyoruz çünkü binom dağılımı sorularında tek bir denemedeki p olasılığını bulmak çok önemlidir. Atışta 6 gelmeme olasılığı ise şu şekildedir:\n",
        "\n",
        "1-p= 0.8333333333333333‬\n",
        "\n",
        "Bu soruda formül yazmadan mantık kullanılarak 30 atıştanan 9'unun olasılığını bulacağız. Diyelimki zarı atan kişi ilk 9 atışta 6 denk getirsin ve diğer atışlarda denk getiremesin. Ancak 6 denk gelen 9 atışın farklı sıralamada olmasını dikkate alarak:"
      ]
    },
    {
      "cell_type": "code",
      "metadata": {
        "id": "lZAlR7ZTl5jP",
        "colab_type": "code",
        "outputId": "b46f0188-364f-4298-93bd-174a82d50f2b",
        "colab": {
          "base_uri": "https://localhost:8080/",
          "height": 33
        }
      },
      "source": [
        "import math\n",
        "def kombinasyon(n,r):\n",
        "  return math.factorial(n)/(math.factorial(r)*math.factorial(n-r))\n",
        "\n",
        "def binom (a,b,p):\n",
        "  return kombinasyon(a,b)*pow(p,b)*pow((1-p),(a-b))\n",
        "\n",
        "alti_gelme = 1/6\n",
        "print(binom(30,9,alti_gelme))"
      ],
      "execution_count": 4,
      "outputs": [
        {
          "output_type": "stream",
          "text": [
            "0.030859274384802193\n"
          ],
          "name": "stdout"
        }
      ]
    },
    {
      "cell_type": "markdown",
      "metadata": {
        "id": "AzhJ5MYmcqOS",
        "colab_type": "text"
      },
      "source": [
        "Poisson Dağılımı\n",
        "\n",
        "400 sayfalık bir kitapta rasgele dağılmış 100 yanlış vardır. Herhangi bir sayfanın Tam 2 yanlış içermesi olasılığını bulunuz.\n",
        "\n",
        "400 sayfa olduğundan herhangi bir sayfada hata olma olasılığı p = 1/400 n = 100 dür\n",
        "\n",
        "λ=n*p=0,25"
      ]
    },
    {
      "cell_type": "code",
      "metadata": {
        "id": "7hHLMJticue1",
        "colab_type": "code",
        "colab": {
          "base_uri": "https://localhost:8080/",
          "height": 33
        },
        "outputId": "38c46182-b0a7-4163-93d5-c7caf4742484"
      },
      "source": [
        "# Poisson dağılımı\n",
        "import math\n",
        "from pylab import*\n",
        "import numpy as np\n",
        "def poisson(n,p,k):\n",
        "  Lambda= n*p\n",
        "  P= ((Lambda**k)/math.factorial(k))*exp(-Lambda)\n",
        "  return P\n",
        "#toplam hata\n",
        "n=100\n",
        "#herhangi bir sayfada hata olma olasılığı\n",
        "p=1/400\n",
        "#istenen yanlış sayısı\n",
        "k=2\n",
        "print(\"Herhangi bir sayfanın Tam 2 yanlış içermesi olasılığı\",poisson(n,p,k))"
      ],
      "execution_count": 5,
      "outputs": [
        {
          "output_type": "stream",
          "text": [
            "Herhangi bir sayfanın Tam 2 yanlış içermesi olasılığı 0.024337524470981402\n"
          ],
          "name": "stdout"
        }
      ]
    }
  ]
}