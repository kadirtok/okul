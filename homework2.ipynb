{
  "nbformat": 4,
  "nbformat_minor": 0,
  "metadata": {
    "colab": {
      "name": "Untitled0.ipynb",
      "provenance": [],
      "authorship_tag": "ABX9TyOKM2r1wRWoqvTqzu/YeIhS",
      "include_colab_link": true
    },
    "kernelspec": {
      "name": "python3",
      "display_name": "Python 3"
    }
  },
  "cells": [
    {
      "cell_type": "markdown",
      "metadata": {
        "id": "view-in-github",
        "colab_type": "text"
      },
      "source": [
        "<a href=\"https://colab.research.google.com/github/kadirtok/okul/blob/master/homework2.ipynb\" target=\"_parent\"><img src=\"https://colab.research.google.com/assets/colab-badge.svg\" alt=\"Open In Colab\"/></a>"
      ]
    },
    {
      "cell_type": "markdown",
      "metadata": {
        "id": "UvgJ71e8l2AO",
        "colab_type": "text"
      },
      "source": [
        "Ödev 2 : Kombinasyon\n",
        "\n",
        "Soru :\n",
        "\n",
        "7 mavi top ve 5 siyah top arasından 4 tane seçilecektir. Seçilenlerin hepsinin mavi veya siyah olma olasığı kaçtır ?\n",
        "\n",
        "Cevap :\n",
        "\n",
        "Seçilecek 4 topun siyah olma ihtimali C(5,4) Seçilecek 4 topun mavi olma ihtimali C(7,4)\n",
        "\n",
        "Tüm evren C(12,4)\n",
        "\n",
        "Siyah olma ihtimaliyle mavi olma ihtimalini toplayarak ve daha sonra tüm evrene bölerek sonuca ulaşırız.\n",
        "\n",
        "(C(5,4)+C(7,4))/C(12,4)"
      ]
    },
    {
      "cell_type": "code",
      "metadata": {
        "id": "lZAlR7ZTl5jP",
        "colab_type": "code",
        "colab": {
          "base_uri": "https://localhost:8080/",
          "height": 136
        },
        "outputId": "604aa871-8cd1-4860-c3a3-458a35ccc760"
      },
      "source": [
        "def faktoriyel(sayi):\n",
        "    if sayi==1:\n",
        "        return 1\n",
        "    else:\n",
        "        return sayi * faktoriyel(sayi-1) \n",
        "\n",
        "\n",
        "def kombinasyon(n,r):\n",
        "  return faktoriyel(n)/(faktoriyel(n-r)*faktoriyel(r))\n",
        "\n",
        "siyaholmaihtimali = kombinasyon(5,4)\n",
        "print(\"Siyah olma ihtimali:\",siyaholmaihtimali)\n",
        "\n",
        "maviolmaihtimali = kombinasyon(7,4)\n",
        "print(\"\\nMavi olma ihtimali:\",maviolmaihtimali)\n",
        "\n",
        "toplamuzay = kombinasyon(12,4)\n",
        "print(\"\\nToplamuzay:\",toplamuzay)\n",
        "\n",
        "sonuc = (siyaholmaihtimali+maviolmaihtimali)/toplamuzay\n",
        "print(\"\\nSonuc:\",sonuc)"
      ],
      "execution_count": 1,
      "outputs": [
        {
          "output_type": "stream",
          "text": [
            "Siyah olma ihtimali: 5.0\n",
            "\n",
            "Mavi olma ihtimali: 35.0\n",
            "\n",
            "Toplamuzay: 495.0\n",
            "\n",
            "Sonuc: 0.08080808080808081\n"
          ],
          "name": "stdout"
        }
      ]
    }
  ]
}